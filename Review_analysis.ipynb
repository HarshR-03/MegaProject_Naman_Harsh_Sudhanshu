{
  "nbformat": 4,
  "nbformat_minor": 0,
  "metadata": {
    "colab": {
      "provenance": [],
      "gpuType": "T4",
      "mount_file_id": "1_kg2r1O-m6dqBS2hLFJS5WTENxKMN3bl",
      "authorship_tag": "ABX9TyN5Sf7Rohgxp066xg6Xx23S",
      "include_colab_link": true
    },
    "kernelspec": {
      "name": "python3",
      "display_name": "Python 3"
    },
    "language_info": {
      "name": "python"
    },
    "accelerator": "GPU"
  },
  "cells": [
    {
      "cell_type": "markdown",
      "metadata": {
        "id": "view-in-github",
        "colab_type": "text"
      },
      "source": [
        "<a href=\"https://colab.research.google.com/github/HarshR-03/MegaProject_Naman_Harsh_Sudhanshu/blob/main/Review_analysis.ipynb\" target=\"_parent\"><img src=\"https://colab.research.google.com/assets/colab-badge.svg\" alt=\"Open In Colab\"/></a>"
      ]
    },
    {
      "cell_type": "code",
      "execution_count": null,
      "metadata": {
        "id": "Gerwz9_aMEph"
      },
      "outputs": [],
      "source": [
        "import pandas as pd\n",
        "import tensorflow as tf\n",
        "\n",
        "d = pd.read_csv(\"//content//drive//MyDrive//reviews.csv\")\n",
        "d[\"score\"]-=1\n",
        "d = d.dropna() #since text column has lots of nulls at the end\n",
        "\n"
      ]
    },
    {
      "cell_type": "code",
      "source": [
        "d[\"score\"].value_counts()"
      ],
      "metadata": {
        "colab": {
          "base_uri": "https://localhost:8080/"
        },
        "id": "Ngpy0mvvjJnf",
        "outputId": "e3e80b68-3f35-4f8c-8d41-6eb1d56a6a12"
      },
      "execution_count": null,
      "outputs": [
        {
          "output_type": "execute_result",
          "data": {
            "text/plain": [
              "4.0    126387\n",
              "3.0     29118\n",
              "0.0     18296\n",
              "2.0     15624\n",
              "1.0     10575\n",
              "Name: score, dtype: int64"
            ]
          },
          "metadata": {},
          "execution_count": 16
        }
      ]
    },
    {
      "cell_type": "code",
      "source": [
        "d[\"score\"].value_counts()"
      ],
      "metadata": {
        "id": "1GLREHgVtzkw",
        "colab": {
          "base_uri": "https://localhost:8080/"
        },
        "outputId": "75a6c64a-4748-41a0-f5c9-7d6b6cedcc17"
      },
      "execution_count": null,
      "outputs": [
        {
          "output_type": "execute_result",
          "data": {
            "text/plain": [
              "5.0    126387\n",
              "4.0     29118\n",
              "1.0     18296\n",
              "3.0     15624\n",
              "2.0     10575\n",
              "Name: score, dtype: int64"
            ]
          },
          "metadata": {},
          "execution_count": 4
        }
      ]
    },
    {
      "cell_type": "code",
      "source": [
        "import numpy as np\n",
        "features  = d[\"text\"][1:]\n",
        "features.info()\n",
        "target = np.asarray(d[\"score\"][1:]).astype('int64')\n",
        "tf.convert_to_tensor(target)\n",
        "data = tf.data.Dataset.from_tensor_slices((features,target))"
      ],
      "metadata": {
        "id": "e6Zuxtb6rXWg",
        "colab": {
          "base_uri": "https://localhost:8080/"
        },
        "outputId": "01524f24-e0b2-47cf-990b-d77d857d82e0"
      },
      "execution_count": null,
      "outputs": [
        {
          "output_type": "stream",
          "name": "stdout",
          "text": [
            "<class 'pandas.core.series.Series'>\n",
            "RangeIndex: 199999 entries, 1 to 199999\n",
            "Series name: text\n",
            "Non-Null Count   Dtype \n",
            "--------------   ----- \n",
            "199999 non-null  object\n",
            "dtypes: object(1)\n",
            "memory usage: 1.5+ MB\n"
          ]
        }
      ]
    },
    {
      "cell_type": "code",
      "source": [
        "for f,t in data.take(5):\n",
        "   print(f.numpy().decode(\"utf-8\"))\n",
        "   print(\"Label:\", t.numpy())"
      ],
      "metadata": {
        "id": "fLPDvQd9uZi8",
        "colab": {
          "base_uri": "https://localhost:8080/"
        },
        "outputId": "b222df78-0768-4b36-b678-239a71c270a4"
      },
      "execution_count": null,
      "outputs": [
        {
          "output_type": "stream",
          "name": "stdout",
          "text": [
            "Product arrived labeled as Jumbo Salted Peanuts...the peanuts were actually small sized unsalted. Not sure if this was an error or if the vendor intended to represent the product as \"Jumbo\".\n",
            "Label: 0\n",
            "This is a confection that has been around a few centuries.  It is a light, pillowy citrus gelatin with nuts - in this case Filberts. And it is cut into tiny squares and then liberally coated with powdered sugar.  And it is a tiny mouthful of heaven.  Not too chewy, and very flavorful.  I highly recommend this yummy treat.  If you are familiar with the story of C.S. Lewis' \"The Lion, The Witch, and The Wardrobe\" - this is the treat that seduces Edmund into selling out his Brother and Sisters to the Witch.\n",
            "Label: 3\n",
            "If you are looking for the secret ingredient in Robitussin I believe I have found it.  I got this in addition to the Root Beer Extract I ordered (which was good) and made some cherry soda.  The flavor is very medicinal.\n",
            "Label: 1\n",
            "Great taffy at a great price.  There was a wide assortment of yummy taffy.  Delivery was very quick.  If your a taffy lover, this is a deal.\n",
            "Label: 4\n",
            "I got a wild hair for taffy and ordered this five pound bag. The taffy was all very enjoyable with many flavors: watermelon, root beer, melon, peppermint, grape, etc. My only complaint is there was a bit too much red/black licorice-flavored pieces (just not my particular favorites). Between me, my kids, and my husband, this lasted only two weeks! I would recommend this brand of taffy -- it was a delightful treat.\n",
            "Label: 3\n"
          ]
        }
      ]
    },
    {
      "cell_type": "code",
      "source": [
        "def get_dataset_partitions_tf(ds, ds_size, train_split=0.8, val_split=0.1, test_split=0.1, shuffle=True, shuffle_size=10000):\n",
        "    assert (train_split + test_split + val_split) == 1\n",
        "\n",
        "    if shuffle:\n",
        "        # Specify seed to always have the same split distribution between runs\n",
        "        ds = ds.shuffle(shuffle_size, seed=12)\n",
        "\n",
        "    train_size = int(train_split * ds_size)\n",
        "    val_size = int(val_split * ds_size)\n",
        "\n",
        "    train_ds = ds.take(train_size)\n",
        "    val_ds = ds.skip(train_size).take(val_size)\n",
        "    test_ds = ds.skip(train_size).skip(val_size)\n",
        "\n",
        "    return train_ds, val_ds, test_ds"
      ],
      "metadata": {
        "id": "_1Ml8I-uxOxH"
      },
      "execution_count": null,
      "outputs": []
    },
    {
      "cell_type": "code",
      "source": [
        "train_set, valid_set, test_set = get_dataset_partitions_tf(data,199999)"
      ],
      "metadata": {
        "id": "2qosKOHevN-e"
      },
      "execution_count": null,
      "outputs": []
    },
    {
      "cell_type": "code",
      "source": [
        "train_set = train_set.batch(32).prefetch(1)\n",
        "valid_set = valid_set.batch(32).prefetch(1)\n",
        "test_set = test_set.batch(32).prefetch(1)"
      ],
      "metadata": {
        "id": "B262yXNvlV3D"
      },
      "execution_count": null,
      "outputs": []
    },
    {
      "cell_type": "code",
      "source": [
        "for f,t in train_set.take(5):\n",
        "  print(f.numpy())\n",
        "  print(\"label:\",t)"
      ],
      "metadata": {
        "id": "kFfgxuUmyGN4",
        "colab": {
          "base_uri": "https://localhost:8080/"
        },
        "outputId": "fb8336c3-e6e2-4adf-a784-1202a24a190f"
      },
      "execution_count": null,
      "outputs": [
        {
          "output_type": "stream",
          "name": "stdout",
          "text": [
            "[b'These are seriously delicious, especially if you like plain potato chips. My only concern is they\\'re very oily. I understand they\\'re \"kettle chips\" and they\\'re \"fried\" (small batches and all) but when you open the bag (That\\'s another thing, very strong bag! Need scissors!) there\\'s a coating of oil on the inside of the bag and on the chips themselves. I suggest a blot/shake on some paper towels before consuming. Either way, they have a yummy potato taste, and very satisfying crunch. Delicious!'\n",
            " b\"I found these at a super Gold Box pricing one day otherwise I would not have looked twice at 16.00 pancake mix.  Now we are hooked - nothing compares to this mix.  I've tried every box in the store for our belgian waffle maker and these top them all!<br />Waffles are nice and crisp on the outside and super soft on the inside. They are so dense they don't absorb syrup or toppings.  I will buy this over and over again.\"\n",
            " b'Here is a great way to get that tast of your childhood without all the sugar.<br />Even without blood sugar problems i want to cut back on any excess sugar.<br />This allows you to have a drink option (other than water) with a perky taste that<br />is low calorie and sugar free.<br /><br />Parents dont tell the kids and just serve it, they will never know the diffrence.<br />Its that good'\n",
            " b'I love the walnut oil. It came in cans which i like a lot because you hardly see them any more. The walnut oil was better quality than any of the walnut oil I bought in my neighbourhood and cheaper even with the shipping charge. I recommend it to anyone.'\n",
            " b'I tried the cookies and they were great nd trying to find them in the stores<br />with no success. did not realize they were seasonal or would have stocked up<br />great product'\n",
            " b\"It's okay but it does not have a rich chocolatey taste. I actually find it to have a funky taste, can't quite figure it out.\"\n",
            " b'You can taste the wood in the respect it taste like the coffee was roasted over wood.  It is VERY smooth, I detect no bitterness or over roasting.  Nice flavor.  My newest favorite amoung the k-cup line.  My old favorite was Donut Shop but not any more.  I am not as pleased with the other Caribou flavors but this one really surprised me.'\n",
            " b'My local store had the product lineon close-out at 77 cents a can so I bought a dozen cans of different verities. Lobster soup was very fishy for starters and the Manhattan chowder was very watered down.  The New England chowder is somehow creamy and void of flavor.  The Clam corn chowder was not enjoyable.<br /><br />  I am real soup eater and take soup at least once a day and always when I dine out.  Long story short... This is the most tasteless soup and just not good.  I suggest you pass on this and I am sure Cambells will be a much better choice than these soups... Sorry, I had leave an unfavorable review bit this soup is just not worth eating and 77 cents a can I would never buy this again'\n",
            " b\"This Wolfgang Puck Coffee Jamaica Me Crazy is the worst coffee I've ever had!<br />I threw it out right away after one sip! It taste like all coconut flavoring.<br />Hard to believe someone thought this taste good and was marketable. They should be fired!\"\n",
            " b\"what can I say... if you've had popchips in the past and love them... then no better place to pick them up... I love these chips and have bought them without an issue from Amazon.<br /><br />Thanks\"\n",
            " b\"Not bad for a prepackaged and quickie meal. If you're looking for authentic Thai, this will give you only half the flavor, so the name that it is only a taste of Thai is quite accurate. Cartons are fancy, but big for the amount they hold. It is definitely enough for a meal, but if you're looking for a full takeout carton of food to eat, you had better grab two. It is tasty enough for a meal, but if you can get yourself to an authentic Asian supermarket, I guarantee you will find much tastier options that are also quick and easy to make with more substance and flavor and at a much lower price (ie 6 boxes of noodles for $6) - and I'm not talking about Cup O' Noodles or things you find at American supermarkets. But overall, my husband and I, being the noodle-mongers that we are, did enjoy these as something new for the palate. However, we will probably opt to order Thai takeout for fresh noodles next time we have a craving.\"\n",
            " b\"I'm on a very low sodium intake- 300mgs per day- and these are great. Good taste and low sodium. I just put a little mustard on them and yum!\"\n",
            " b'I often order this product to give to others.  This is a GREAT gift!  Everyone to whom I have gioven this product as a present really enjoys it.  This is more special becuase anyone can give chocolate.  This is different and cannot be purchased at regular stores in many states.'\n",
            " b\"This product smells so bad that I couldn't even try to consume it.  It smells sour and rancid and is detectable even before the package was opened.  The seller has a no return policy so I'm out the $ I spent on this as it will go right into the garbage.\"\n",
            " b'I love them.  My kids and I eat them a box at a time.  We have replaced chips (and other \"bad for you\" snacks) with these.  Just wish they were organic.'\n",
            " b\"I am training for a half marathon.  At the start of my training I wasn't taking cherry juice.  As I increased my long runs each week my knees and hips were so sore.  I started to take this cherry concentrate and ever since then I have felt pretty good.  I take the juice every morning with my breakfast.  It has a very strong flavor but mixes well with apple or orange juice.  The half marathon I'm running in is this weekend and I feel ready for it thanks in part to the cherry juice helping reduce the pain.  This stuff works for me.\"\n",
            " b\"The texture is like rice crackers, which I personally don't like. Taste isn't too bad, but every single bags are too salty, even the original flavor. I'd give four stars if they make low sodium chips. The salt.. is one of your worst enemies. I bet it does more harms to your body than MSG's.\"\n",
            " b\"With the Amazon Mom discount, this is cheaper than in stores unless there's a sale.  It regularly goes on sale at Kroger, Publix, and other grocery stores for around 50 cents a jar.  I wish there were other Earth's Best fruit varieties available on Amazon at this price.  No problems with breakage during shipping for me, but I found the packaging annoying.  In general though, I think Earth's Best is a good brand and that the price is fair for what you're getting:  organic, non-GMO baby food delivered to your door step!  As a single mom in a rural community, going to the grocery store with the baby can be such a hassle.<br /><br />Earth's Best is definitely better tasting and smelling than non-organic foods like Gerber.  The textures are good, but I had to stay on 1st foods longer than six months because the textures of almost all 2nd Foods made my son gag.  I had a similar issue graduating from 2nd Foods to 3rd Foods.  Sprout baby food, however, is the best quality I've tried for freshness, aroma, and taste.  It reminds me of pureed fresh produce.  While I've seen it in Winn-Dixie for the same price as Earth's Best, it's much more expensive on Amazon and the selection of flavors is relatively limited both in stores and online.  I'm going to start making my own organic baby food and freezing it, but I'll probably always keep a few jars of Earth's Best to get by in a pinch.\"\n",
            " b\"I bought this molasses at a local grocery store and nowhere on the bottle does it state that it is, 'unsulphered'. I called the company and talked to a sales rep in which he stated that it was not unsulphered. Although it does have a higher percentage of iron, I'm going back to Plantation.\"\n",
            " b'It tastes good and is little sweet so my first thought was that it had a lot of sugar.  I looked on the box and was surprised that it did not have that much. (a plus for me)'\n",
            " b\"I bought this to take a check mark off of the bucket list, but my wife and I had a cup of this and both of us immediately got sick with a headache and vomiting profusly. What made it worse it's Christmas and this day is shot now. We're coming through it but I'm sorry to say but my bucket list was almost over before it got started. Try if you want but it's made us sick and almost in the hospital. This is a Christmas I'd like to forget.\"\n",
            " b\"I have been making wonderful homemade vanilla with a recipe that I found on line using vanilla beans purchased from Williams Sonoma. I decided to try Spicy World Vanilla Beans rather than the much more expensive vanilla beans from Williams Sonoma.  Two vanilla beans from Williams Sonoma in a pint of vodka resulted in a very dark richly aromatic vanilla after only two months.  I used three Spicy World vanilla beans in a pint of vodka and after two months I had a liquid that looked like weak tea and had the aroma of alcohol.  I added three more beans and waited.  The results were disappointing, so I added three more vanilla beans.  You can still see through the vanilla and it doesn't have the aroma of vanilla.  I am completely disappointed with the vanilla beans from Spicy World.  They are totally worthless, a complete waste of money.  I would not recommend them or purchase anything from Spicy World.\"\n",
            " b'I am very pleased with this selection.  I have not tried the other hot cocoa brands for Keurig but this one is awesome!  I bought the milk chocolate.'\n",
            " b'I really, really dislike Sucralose.  I don\\'t like the taste, the aftertaste, or the after effects.  I bought this based on it NOT saying it was \"diet\" or \"low calorie\".  The first ingredient is Sugar so it\\'s only partially sweetened with Sucralose.  Sucralose is buried way down in the ingredients list but the taste is noticeable.<br /><br />Sure wish Amazon contained the full nutrition and ingredients labels from all food products.'\n",
            " b\"They are what they claim to be.  The sweet flavors are sweet, and the gross flavors are GROSS!!!  My 5 & 7 yr. old boys loved these from the Easter Bunny, but I thought the adults that were adventurous enough to try them had even more fun with them.  You can't tell what you get by sight or smell - not until you bite into them do you know the truth! Highly recommended if you are into this sort of thing!\"\n",
            " b'This is the absolute best hot cocoa for the Keurig Brewers. All of the other Hot Cocoa\\'s that we have tried we had to \"doctor\" to make them taste good. We had to add more cocoa and more sugar. I was pretty much making my own cocoa, which defeated the purpose of the brewer. But the Grove Square Hot Cocoa does not need any help. In my opinion, It has just the right amount of flavor!!'\n",
            " b\"I was very excited to see a product such as this being offered on line, as I loved the coffee I was drinking before I got a Keurig.  (My previous coffee is not offered in a K-cup version.)  Very promptly I placed an order and couldn't wait for it to arrive. I placed my fresh beans into my grinder and ground them a little courser than I would have if I was using my Bunn coffee pot.  I then proceeded to place the filter into the disposable K-cup, add my freshly ground beans and placed the cap on tightly.  Great!! Ready to brew my first cup of my favorite coffee.  The whole procedure worked well until the cycle was almost finished and then it happened.  Scalding hot water started squirting out of my Keurig machine from all sides.  I was trying to move my cup to catch the water, but it was coming out too fast and very hot.  I was disappointed with the performance of this product.  The coffee was good, although not a full cup and I had a mess to clean. I have tried grinding the beans finer and courser, also tried to fill the cups at different levels, but the results are still the same.  I will continue experimenting with the disposable K-cups and if I find the right combination, I will let you know.\"\n",
            " b'We had these along with Omaha prime rib. Both were great. Two where plenty to fill up. Made them in toaster oven in less then 20 minutes.'\n",
            " b'It is close to impossible to find a cookie that is both soy free, wheat free, and the only sugar that is used is from natural juices: apple, etc. That is the only reason I gave the cookie such a high ranking...<br />As for taste, the chocolate flavor is pronounced, I enjoy the \"crunch\", however, the texture of the cookie has a lot to be desired. The cookie needs to either be crunchier or more moist. As is it wants to stick to the roof of your mouth, and is just odd. Making it unappealing. If I had tasted the item prior to ordering, I wouldn\\'t have bought a whole box full.'\n",
            " b\"I don't understand why this dog food is not full of reviews. Checkout [&#8230;] they give this dog food 4 out of 5 stars which beats science diet and purina one which I use to use and diamond natural is less expensive.\"\n",
            " b'Good stuff, take it easy if your not used to it. it improves taste of food, better breathing, better circulation, helps with arthritis a bit'\n",
            " b\"This is a decent flavored carbonated juice.  It's 100% juice which is good for the more health conscious people.  It tastes pretty good, sweet and a little tangy.  But the flavor does fall short.  Like some reviewers have said, the drink tastes more like a punch than pure orange or tangerine juice.  Do yourself a favor, if you want orange flavored soda, then go for an orange flavored soda.  If you want tangerine, then buy tangerine.  The infusion of both flavors really causes both flavors to fall short slightly short.\"]\n",
            "label: tf.Tensor([3 4 4 4 4 2 4 1 0 4 2 3 3 0 4 4 2 3 0 4 0 0 4 1 4 4 2 3 2 4 4 2], shape=(32,), dtype=int64)\n",
            "[b'I love Jell-o No Bake Cheesecake but was disappointed the shelf life was so short. I got it after Christmas and the expiration date was April 8,2011.  Had I known that before I ordered I would have never ordered.  12 boxes is a lot to use up in only 3 months. I will not order again.'\n",
            " b\"I'm always looking for a carbonated alternative to sodas so I thought I'd give this a try. Generally I enjoy drinking naturally flavored sparkling water like La Croix or Crystal Geyser. I also very much enjoy Izzy's sparkling water/juice blends. Unlike Izzy, which combines juice and water, this is a 100% juice beverage that is carbonated. I have to say, it is definitely full of flavor, but it's just too sweet tasting. I like a bit of orange juice now and then, but for this type of carbonated drink, I'm just not into all that sweetness. I tried diluting it with some sparkling water, but the flavor just wasn't quite what I wanted. I like that Izzy is just a bit on the tart side with it's flavors. This is a nice idea and it's pretty ok. I just prefer other beverages over this one.\"\n",
            " b\"Organic, and loaded with calories, fat and protein, this the ONLY baby food with meat that my picky little one will happily eat.  I've found that very few groceries carry this near my home (and I live in metropolitan Seattle) and so I've resorted to ordering it by the case from Amazon.  The free 2 day shipping Rocks!\"\n",
            " b'We have been buying Cat Grass for many years and this product is very well priced and works just as good as the expensive packages.<br /><br />Our Cats have \"Grown\" healthy and happy since they have this grass.<br /><br />Great Seller - delivered on time and product sold is exactly what we wanted and will purchase again.'\n",
            " b\"I like that these are organic and don't have corn syrup.  My kids and I both like them.  I'd give them 5 stars but I noticed earlier this year that they changed the recipe.  The crackers are lighter and flakier than they used to be and they break more easily.  And if you have kids under 5, you might understand how upsetting broken crackers can be.  The taste is still great, but I preffered the old texture myself and definitely for my kids who cry when the crackers break while they are eating them.  And when you order these in the mail, like I did last time, don't expect many full graham cracker sheets - most are already broken in two, and quite a few are broken at the edges as well.\"\n",
            " b'Smooth with a hint of flavor.  Medium boldness yet rich in taste.  Not a \"wake me up\" but certainly enjoyable!'\n",
            " b\"Sounds corny but oh so true.  The aroma is pungent with the savory smell of coffee and the sweetness of chocolate.  The chocolate flavor is rich yet delicate so it doesn't overwhelm.  I purchased four bags of the ground coffee first for my daughter.  She insisted I taste it even tho I don't like flavored coffee or 'dark' chocolate. I enjoyed it so much I took back a bag and purchased 4 bags of the whole beans to grind when needed for that added freshness.  While I will not drink flavored coffee all the time, I feel it's a treat to start or end my day with a cup of this delicious coffee. My daughter also enjoys this coffee cold.\"\n",
            " b\"I've tried all three new 'Dark' offerings from Gevalia and I think this is the best one from the three. Gevalia finally came up with coffee worth serving to your guests.<br />Coffee has an earthy bold taste with little to none bitterness and no metallic after taste; it actually leaves a nice smooth tasty chocolaty after taste.<br /><br />The pack comes with 12 big T-discs that will brew 8 ounces of coffee. This coffee will delight those who love the darker roasts.<br /><br />Update:<br />I am on my 5th cup of this coffee and it was really grown on me (changing from a 4 to 5 stars); it is quite tasty and smooth. This is one coffee that will truly satisfy the void that Sbux left. There will be some that will say that this is not the same as Sbux and it isn't! Try the coffee and give it a fair taste without trying to compare it to anything else you may find yourself quite surprised at the findings.  Highly recommended and definitely will be buying this one again.\"\n",
            " b'I have been GF for 2years.  I used this product for biscuits and liked them but were a little dry.  As for the pancakes, I prefer another product.  The pricing is outrageous.  I am single but cannot imagine trying to justify this cost when making pancakes for a family.  I love the Betty Crocker GF cake mixes and brownies though.  I still make my biscuits and oven baked chicken using this product.  It is getting more difficult to find on store shelves so most times I order here.  I have several BC cookbooks and have used the GF version Bisquick  as substitute for the regular Bisquick..  Some come out Ok while others are not too good.  I am learning to vary ingredients to achieve better results.  My best experiment with this product was my scratch cornbread.  I use GF corn meal and this mix to make a delicious bread.  thank you BC for this product.  Work on the pricing.  I would use it more often if I could afford it.  Tired of manufacturers holding GF people hostage because it seems to be the latest \"diet craze\".  GF people have to have these products to live.<br /><br />Going GF saved my life and BC now makes products so I can enjoy baked goods again.  I make my own breads using other products and now biscuits, cakes, cookies with this and other BC GF products.  I also use this product when recipes call for small amounts of regular flour.  It depends on what I am making.<br /><br />As I am reviewing the product I gave it 5 stars.  I give the pricing 2 stars.'\n",
            " b\"There is no better sauce and I think it's even better than most homemade sauces. One can will make two large pizzas. It's seriously amazing. Unfortunately, it is hard to find but when I do find it... I buy all the stock. ;)\"\n",
            " b'I LOVE Old Dutch Ketchup chips but they are no where to be found in the US and pricey on eBay.  I tried Herr\\'s but they were dull - very ketchupy but not the tangy-vinigary ketchup bite that Old Dutch has (makes your mouth hurt  in a good way if you eat too many!).  Uncle Rays are decent - more of a kick - many \"loaded\" chips which I like, still, not the addictive bite I love.  So - if you love Herr\\'s these may be too much for you.  If you love Old Dutch give these a shot.  I am still on my quest for something equal to Old Dutch!!'\n",
            " b'\"Nantucket Blend coffee is one of my favorites.  I was suprised that it was a single box.  every time I ordered before it was a 2 pack.  My fault for not reading closer.  I will not order any more at this price for 1 (24 count)'\n",
            " b\"This is the best one. Bob's Red Mill doesn't hold a candle to this. It's fluffy, delicious. and doesn't stick to the pan.<br />I use 4:1 water to rice....Yum\"\n",
            " b\"Awesome tasting Tea in a 16 oz. can!  I highly recommend this product because it taste great and doesn't cost a lot.\"\n",
            " b'What a wonderful starter kit this is.  While I am and was familiar with some varieties of exotic sea salts, I certainly had not had the opportunity to try this many at one time.  Tather than chance buying a product that I did not like and being stuck with it, this allowed me to give each and everyone a try.<br /><br />I plan to order at least three more sets for presents this coming year for friends that, like me, are foodies.<br /><br />This is an excellent product.'\n",
            " b'I have been using these treats for quite a while and both my dogs love them but both dogs are also way off their food and have been for quite some time and both have been acting kind of \"off\"...nothing major but just not exactly right. Well, I just happened to quit using these treats for a week or so and noticed both dogs came back to life and they\\'re eating like crazy. I cannot for certain pin it on these treats but it\\'s something to keep in mind if you are using them and your pet seems a little off kilter.'\n",
            " b'If people would read the ingredients they would be less critical of the end product.  I only tried them as pancakes and they lent themselves most excellently. I used an Erythritol instead of sugar and they tated great and cooked very well.  I did not even use a blender to mix.'\n",
            " b\"It has a nice taste.  Good for sipping.  If you drink soda or juice with your meals, this would be a decent alternative.  The tangerine taste is pronounced but not overpowering.  The carbonation is pleasant.<br /><br />However, it's not a drink I would normally imbibe.  I normally drink either water or beverages sweetened with something other than sugar.  And this has a LOAD of sugar.  Yes, they say it has no added sugar.  That's probably accurate.  But the natural sugar in the apple/tangerine/orange juices in this drink adds up to 34 grams.  Compare that to the same amount of Coke at 27 grams!  I checked a few other tangerine flavored sodas - they all had similar amounts of sugar as Switch.  I suppose tangerines are loaded with sugar.  Anyway, that's a lot more sugar than I normally drink.<br /><br />If the sugar isn't an issue, this is worth checking out.\"\n",
            " b\"I am very fond of this coffee, and I won't accept substitutes for it. Several of my local stores have substituted another brand. I just order it on-line when I cannot get it in a store. HOWEVER, Amazon's price is too high. It's $4 a jar in local stores.\"\n",
            " b\"The service and delivery from Amazon was great.  However, the product itself is not worth buying.  No matter what I try, coffee leaks out around the Kcup when brewing....it makes a mess!  Wanted the cups to use my favorite coffee (Tim Hortons), but guess I'll just have to get used to other brands!\"\n",
            " b'I like strong, but smooth coffee. This coffee is strong enough, but a little on the bitter side for my taste. I have tasted other strong blends that I like much more. My husband, who likes a medium roast coffee, is OK with this coffee, but it not his favorite either. I would only recommend it to someone who likes a little tang in their morning cup of joe.'\n",
            " b\"I love Goya salad and vegetable seasoning, I tried it once and was hooked, it's the only thing I use on my salads now. I love the small packages, I can easily take them to a restaurant. I also love the fact that it is much lower in calories than regular salad dressing.Thankfully,the area that I live in carried this product for a short time and I was able to try it. Unfortunately the area that I live in stopped carrying the product, I know this because I searched every store in the town that I live in as well as the surrounding towns. Eventually, I went to Amazon and found the product, unfortunately at that time they are out of stock, I waited six months and finally Amazon had the product again. I ended up buying the pack of 24 eight count boxes, to make sure that I never ran out of the product again. Since I had so many I was able to share with friends and family.\"\n",
            " b\"This is very good tea in an elegant sachet. A little pricier than some but produces a wonderful flavor whether you're drinking it hot or cold.\"\n",
            " b\"They look like a good idea.  My wife and I thought we would give them a try.  They are pretty easy to use.  The thing we don't like is the mess they make in the machine.  Even when to top is secure, they leak into the machine. You have to keep cleaning the filter basket or it gets sticky.  I would advise you to use something better like the E-Z Cup.\"\n",
            " b'Owned two of these and when they work they are fine.  The power knob has no indicator on it though.  My biggest problem, and the reason I will NEVER purchase another, is this: both gave out with in a year.  One now sounds like I am recording from behind a wall and one developed a hum that will not go away.  Do yourself a favor and find a more reliable option.'\n",
            " b'My girls love these bars!  They are nice for lunches or quick snacks on the go!  Good flavor!  Gluten free and Dairy free is difficult, but Bakery on Main does it right!  YUMMY'\n",
            " b'I can no longer find Yuban on the Grocery shelfs.It is by far the best coffee Delicious flavor and no acid I would highly recommend Yuban'\n",
            " b\"I'm very happy with this product. It was less expensive here than at my local Whole Foods and having purchased other Navitas items, I can say that it is quickly becoming a favorite brand.\"\n",
            " b'This product makes a great gift!  Not only are the cookies delicious, but the tin is attractive and of good quality.  Highly recommended.'\n",
            " b\"Although they are mildly healthier, they don't taste as good as Baked Lays.<br /><br />Also, having a huge box of chips around isn't necessarily healthy because I ended up eating them more often.<br /><br />They are worth a try, but they just seem a bit overpriced (even with subscription savings) and over-hyped.\"\n",
            " b'The Parisian Cafe blend is wonderful but it is too thick to fit correctly in the Senseo machine.  The box advertises universal fit but it is not.'\n",
            " b\"This tastes so good that apparently our cat thinks so too -- he's constantly poking his furry face around every time we pop open one of these. There is absolutely nothing bad to say about these. I know some people have complained about the poor packaging but I believe that must've been fixed b/c I've not had any problems at all -- in fact, they securely bubble wrap these, then place them in an air-cushioned box and it all arrives perfectly every time.\"]\n",
            "label: tf.Tensor([2 2 4 3 2 4 4 4 4 4 3 3 4 4 4 2 4 2 4 0 2 4 4 2 0 4 4 4 4 2 3 4], shape=(32,), dtype=int64)\n",
            "[b'These are a delicious guilt free snack that I always have handy. They are so convenient and last a long time. I also get the corn and mixed veggies which are also wonderful. You can get them at Whole Foods but not at this price.'\n",
            " b\"I usually don't drink tea because it doesn't have the caffeine kick I'm looking for, but guayusa tea has almost as much caffeine as a cup of coffee. And unlike coffee, it doesn't need to be drowned in cream and sugar to taste good and doesn't have any of the other unpleasant side effects. I usually add about half a spoonful of sugar per cup, which is enough to pleasantly complement the natural flavor. Now if only Starbucks would start carrying guayusa...\"\n",
            " b\"I feed my two Pugs and occasional rescue Newman's Advanced Dog formula. I like this better than the regular Newman's, because it has less ingredients. I supplement with high quality can food, organic free range chicken, healthy powder and salmon oil. My boys are healthy; their coats are amazing. Highly recommend but with supplements--see above.\"\n",
            " b'My cats all love this product just like they love the other flavors. I dare not run out of these treats or I might have a kitty uprising!'\n",
            " b'I am so surprised that they have this popcorn for sale.  I received 6 bags the other day and the special popcorn pan from Wabash Valley Farms Amish Country ....GOURMET ... well.. the popped kernels are the size of a pea and with hulls.  It burns very easily.  There are too many old maids due to the delicate nature of the kernel.  I ended up throwing most of the popped corn away.  I am so disappointed in this product.  I now have 5.75 bags of this stuff ... I have nothing good to say about it ... but if you like tiny popped corn with lots of hulls then this may be your product.  I am giving mine to the squirrels.'\n",
            " b\"This soup is good. I really love this brand of soups..my favorite being the Chicken and Dumplings. Healthy Choice isn't always the best brand when it comes to frozen meals but for some reason they really knocked it out of the park with their soups. I love them, they taste homemade and amazingly better than Campbell's or Progresso. I recommend this, the Chicken and Dumplings, the Split Pea and Ham...in fact, every variety I've tried has been delicious. You can't really go wrong with this.\"\n",
            " b'I only use raw sugar, it did seem a little smaller than the normal crystals but it is still good. Will buy again.'\n",
            " b'These came fresh, and sprout well for me. I am very pleased with them. They make a tasty and nutritious addition to our salads. As usual, Amazon delivery and postage was great with the super saving shipping option.'\n",
            " b\"Ordered this goat cheese and it is just fantastic! I can't digest cow milk so finding these goat cheeses was a great treat! I would order them again they are that delicious! Looks spectacular on a cheese platter with fruit and selected crackers.\"\n",
            " b'I like strong, but smooth coffee. This coffee is strong enough, but a little on the bitter side for my taste. I have tasted other strong blends that I like much more. My husband, who likes a medium roast coffee, is OK with this coffee, but it not his favorite either. I would only recommend it to someone who likes a little tang in their morning cup of joe.'\n",
            " b\"They are good but need more cheese and wish they were krinkle cut. I much prefer the salt & pepper just for the krinkle cut - they have a better texture. All around this brand is much better than Frito-Lay and a good price on Amazon when you get free shipping. These are similar to Tim's or Zack's chips in that they are very crispy.<br /><br />On a side note, these are the hardest bags to open by hand. I have to use a knife or scissors everytime.\"\n",
            " b'This has been a Christmas favorite since my late sister-in-law introduced our family to these cookies over 20 years ago.  She was from Italy and loved these cookies as do we.'\n",
            " b'<a href=\"http://www.amazon.com/gp/product/B004K30HO2\">DisposaKups - Disposable K-Cups for Keurig Brewers - 50 Cups, Lids, Filters - 100% Disposable</a><br /><br />I bought these because I occasionally run out of my favorite blend and like the convienience of these over the permanet type filters. I also prefer Decaf Black UNSWEETENED tea for Iced Tea that is unavailable in K-cups.  These are great for both and I am reordering to keep onhand.  Couldn\\'t be happier!'\n",
            " b'this gum is the worst i have ever purchased, plain and simple. within two seconds of chewing taste gone!'\n",
            " b\"I find it really hard to believe this is GF because it tastes better than any GF product I've EVER had. I made waffles with it this morning and I didn't even want butter or syrup! It was THAT amazing! I want proof that this truly GF...\"\n",
            " b'Never gave much thought to this treat until Marshawn Lynch came to town...Awesome have a big ole candy dispenser at work with a big Seahawks sticker on it...Now we have Matt Flynn beast-mode cajun style...'\n",
            " b\"My first exposure to Patchi choclates was in Abu Dhabi, where Patchi stores are found aplenty. Now that we are back in the States, Amazon is the only place I've been able to find Patchi. Hooray! The chocolates are as rich and delicious as I remember. If you have never enjoyed Patchi chocolates - do yourself a favor and buy some!\"\n",
            " b'Is so good. Lots of flavor and great coffee taste. Especially good to wake up with. Enjoy this coffee. I give it a plus 10.'\n",
            " b'The item over all was fine, but the Banana Heads are not just like Banana Runts they are alot smaller. Also when I received the item, the packaging was not great. The Banana Heads had come open during shipping and were all over the packing envelope.'\n",
            " b'We enjoy Community Coffee when we go to New Orleans. I was glad to see it available in your online store'\n",
            " b\"I had hoped that this would taste like Pina Coladas but it doesn't.  It is rather nasty and left a film on my tongue.  I wanted something to drink after a work out or to give to my kids when we are traveling but it is to hard for me to swallow.  The reason I gave it 2 stars is because it is good in mixed drinks.  I have been able to add it to smoothies and drinks with alcohol.  If you are going to drink this straight, it helps if it is really cold....almost frozen.  If you really like the taste of coconut milk you might like this because that is the only thing I can taste in it,\"\n",
            " b'Very meaty texture for a vegetarian product.  Looks like fresh ground beef after you mix it with water.  I would recommend this product.  I also want to try the sausage variety.'\n",
            " b\"We made chocolate chip cookies with BRM Garbanzo Bean Flour and the results were fantastic!  The brown sugar and chocolate mask any bean taste that other reviews have mentioned.  Our friends couldn't discern any difference from classic CCCs.  The texture, body, and elasticity (meaning reduced tendency to fall apart that occurs with most other gluten-free flours) is nice and chewy -- the same as CCCs made with regular flour.  And an added bonus -- the high protein and fiber level (I calculate 2-3 g fiber/cookie) fills you up so that you are satisfied with smaller servings and the glycemic index is significantly lower.<br /><br />I highly recommend this flour even if CCCs are the only thing you make with it.\"\n",
            " b\"As far as noodles in a cup goes this is one of the best I've had. Actual recognizable small chunks of dehydrated veggies, mostly mushrooms and onions that I could make out. Descent noodle quality and a very hot and spicy seasoning mix. They don't show it on the picture here but I'm pretty sure this is the hot and spicy cup. It looks exactly like the one I just had but the words 'hot and spicy' are just to the left of the symbol and are not visible in the pic. If you like spicy noodles definitely don't pass this up.<br /><br />Very good\"\n",
            " b\"One of my boys needed to lose some weight and the other didn't.  I put this food on the floor for the chubby guy, and the protein-rich, no by-product food up higher where only my skinny boy can jump.  The higher food sits going stale.  They both really go for this food.  And my chubby boy has been losing about an ounce a week.\"\n",
            " b'Might be a little spicy for some, but this stuff rocks. I use 1/2 and1/2 with V8 for a milder version , or the best is a Bloody Caesar!<br />Half mix ,half clamato!'\n",
            " b\"I love the Nativa brand, however, they always seem to leave out very important details on their packaging.<br /><br />I heard so many praises about how much better the Chia seeds are than Flax seeds.<br /><br />Upon arrival I opted to use these in my salad as opposed to the flax seeds I've been using.<br /><br />The Chia seeds caused the most horrible and painful bloating I ever experienced. Granted, I did use the full serving size, but since then I lowered the amount and STILL with even just a quarter of a teaspoon or less I get the bloating.<br /><br />I have since switched back to the Flax seeds which didn't wreak havoc on my intestinal tract.<br /><br />I am hoping I can find some way to use these seeds in the future because I hate seeing anything go to waste.<br /><br />My advice if you are set on trying the Chia seeds is to start out with a very low amount!!! And stick with that low amount until your stomach builds up a tolerance for these seeds.\"\n",
            " b'After a lifetime of tea drinking, I can honestly say that this is the best Earl Grey I have ever tasted.  I have ordered it a number of times, and each batch is consistently excellent. I have even given it as a gift, as its container is superb for keeping loose tea fresh.  The metal canister has an inner lid that is lifted with its own attached knob, so the tea stays dry and fresh for the length of time it takes to use it up.  Do yourself a favor, if you like Earl Grey, and treat yourself to this tea.'\n",
            " b'most soy sauce is from Japan but they are having problems with radiation in their soy bean fields. I am not sure how long the contamination will last. I like the idea this product claims no GMO seeds. yea  You pay more but decided not to take a chance on Japan.'\n",
            " b\"We've tried many of the K-cups that are available, and this is in our top 3. We prefer a darker, bolder flavor, and this one hits the mark. At the same time it's quite smooth.\"\n",
            " b'I HAD READ ANOTHER REVIEW AND THE REVIEWER WAS CONCERNED ABOUT THIS PRODUCT COMING FROM CHINA.  I CALLED THE MANUFACTURER AND WAS TOLD THIS PRODUCT IS MADE HERE IN THE US.  MY DOG LOVES THEM!!'\n",
            " b'Compared to other k-cup products, Grove Square offers tasty products at a reasonable price.  This hot cocoa was rich and delicious!']\n",
            "label: tf.Tensor([4 4 4 2 0 4 3 4 4 2 3 4 4 0 4 4 4 4 2 4 1 4 4 4 4 4 0 4 3 4 4 4], shape=(32,), dtype=int64)\n",
            "[b'i have bought allot of different flavors and this happens to be one of my favorites and will be getting more soon'\n",
            " b\"When I found GF Bisquik in the stores, I was happy. When I found it on Amazon with a good price as a subscription, I was thrilled. Our daughter lives in Texas and is gluten intolerant so I mail her items on a regular basis. This has become a staple in her kitchen. Anything you can make with regular Bisquik you can adapt using this. So now she makes cookies, pancakes and biscuits to her heart's content. Taste and texture of items made with it are good.\"\n",
            " b\"Nowhere in the description does it mention anything about this coffee being flavored. I'm still not sure what flavor it is. Some type of nut. I wrongly assumed that Jamaican coffee would be similar to the Blue Mountain coffee which Jamaica is known for! How silly of me to assume that! I hate flavored coffees so I was so disappointed to now own 2 boxes of such a horrible coffee. It only says flavored very small on the box so I didn't notice it before I opened it. Hopefully I can pawn it off to visitors and buy some regular bold coffee-flavored coffee for myself!\"\n",
            " b'These chips arrived in terrible condition. The box they were sent in was a display box with all the usual perforations on the box for display. Why someone would send a box like that in the mail and not have put it in another real box is beyond me. The box we received was heavily taped to keep it together since the box came open on the display perforations and looked like someone had driven over the box as well, which gives you an idea of the shape of the box. The chip bags inside were pretty flat, there were no chips, but plenty of crumbs for any use you would need crumbs for. This is how many of the packages looked, flat. There were a few with edible chips, but not many. Not sure what to think of shipping chips in this type of a box, common sense should have been used??'\n",
            " b'Put this in my husbands stocking for Christmas and it was a hit.'\n",
            " b'This was the best deal ever. The delivery was fast, the chips are delicious and very fresh.  Love it:)'\n",
            " b'I am not a fan of any of the decaf k cups I have tried but this one is probably the best.I like strong coffee and his comes pretty close to what I would expect although it says medium roast.'\n",
            " b'The garlic granules make cooking with the garlic flavor without adding extra salt.  The Tones quality is exceptional.  Arrived quickly'\n",
            " b'It was recently suggested to me I try going gluten-free to battle an autoimmune thyroid disorder.  I bought the Gluten-Free Bisquick hoping the pancakes would at least be edible.  The Bisquick has far exceeded my expectations!  The pancakes are light, fluffy, and delicious!  I definitely recommend this product!'\n",
            " b\"I LOVED THIS COFFEE. I just got my order a few days ago and I normally drink just one cup of coffee in the morning......Now I can't wait and have had an afternoon cup, too. I must say....I look forward to getting up in the morning just because I know I'm having this coffee!! TAHT SAYS A LOT FOR A LTE SLEEPER!! Try this one!! I like it on thenext to highest setting on my Keurig....it has an awesome aroma while brewing and the taste is smooth, never bitter and there is something that 'hints' of a slight fruitiness with the first sips......then the end of the sip is just a perfect brew, too. Never any aftertaste or bitterness. I am so happy to have found this!! Thanks Wolfgang! I have now ALL of your kitchen gadgets cookware and now the coffee too!\"\n",
            " b'I admit, I am not terribly fond of flavored coffees. But, this one is not for us. We both love the Rodeo Drive. I have a good freind that loves this coffee. I sent her ours.'\n",
            " b\"I love the McDougall Asian Entr&eacute;es and although I haven't tried all of them this one is amazing. It has a really peanutty flavor that you wouldn't expect in a product containing only 3 grams of fat per serving. I would imagine these would make a great dinner added to a pound of mixed stir-fry vegetables...I am buying a case now to test just that! The peanut flavor is strong enough that I bet it'd distribute among a fair amount of vegetables or tofu when added so you wouldn't get very saucy noodles and dry veggies.<br /><br />I recommend this product. The best-tasting peanut noodle you'll be able to find for only 3 grams of fat.\"\n",
            " b'I have tried many different protein powders over the years, and while it is hard to write a review based on taste alone (since everyone\\'s taste is different), I\\'m going to go ahead and say this is the most rancid tasting gunk I have ever had the displeasure of putting in my mouth.<br /><br />I mix my protein shakes with a hand blender, so I rarely have any mixing problems - and even this protein mixed well.  The fun really began when I tasted it.  It tastes sour and acrid at the same time, absolutely horrendous.  I could not finish the shake I had mixed up, and had to wash my mouth out with apple juice to get that sick taste out before I could actually eat or drink anything else.<br /><br />This is a terrible protein powder from the standpoint of taste, in my opinion.  Of all the types I have tried, which is many, this has taken seat as the new \"worst\" one.<br /><br />FYI, I had ordered this with another brand because I am testing egg protein powders due to casein sensitivity.  If anyone has an egg protein powder recommendation, PM me.'\n",
            " b\"I finally found a hot cocoa for the keurig that isn't too sweet. I made a cup the day it came in the mail and from the first sip I was hooked. From now on this will be the only hot cocoa I drink.\"\n",
            " b'Tastes very good.  I really like the taste.<br /><br />But then it is gone.  Like it was never there.  So fleeting.<br /><br />Takes two pieces to really enjoy, also.<br /><br />And be VERY careful not to eat it.  Seriously, it is hard not to swallow it.  Laugh all you want.  You try it and see what I mean.'\n",
            " b\"This is great chilled and topped with fresh whipped cream.  It is my husband's new favorite dessert.<br /><br />I don't find the texture off-putting.  Of course, is isn't as crunchy as fresh fruit, but the taste is great.<br /><br />If I can get my husband to eat fruit instead of ice cream it gets an A in my book!\"\n",
            " b\"This soup cooks up quickly and is very yummy! I really like the flavor of the seasoning packet and the way the noodles cook up, nice texture. It is very satisfying to me. I'm a single gal who doesn't really cook & am often in a hurry for my next meal, and I find that this soup really hits the spot. Although it does tend to be more of a mid-afternoon snack/light lunch item for me. It will tide you over for a while until your next big meal, but i have to agree with the other reviewer that if you try to have just one of these for dinner you can expect to be hungry in a few hours.<br /><br />Personally I LOOOVE this soup that much more because I had to give up the ramen cup o' noodle and some other brands i had been eating because I developed an allergy to shellfish and mollusks.  It seems that often these instant noodle packets/bowls either have some type of seafood in the sauce or they are manufactured on equipment that also processes shellfish. This one does not contain any type of seafood like many of the other instant noodles do. Another plus for me is that it's not spicy. I'm kind of a wimp with spicy foods, plus i have GERD/reflux, so believe me if i can eat it is NOT spicy. Just tasty :)<br /><br />One thing that bugs me a little is that i feel guilty about the packaging since the plastic bowl is not recyclable (in my town they only take 1's and 2's which of course these microwave safe bowls are never made out of.) Oh well, can't have it all....\"\n",
            " b\"We received a gift box that contained the Stonewall Farms Pancake Mix and they were out of this world. They are the lightest, fluffy and flavorful pancakes and waffles you will ever taste.  And the price on Amazon is a big savings over ordering from Stonewall Farms.  Don't shy away from the larger size and the two pack because you will devour these pancakes in no time.\"\n",
            " b'These are jumbo and flavored nicely,  I ended up saving $.40 per pack as well, good deal.  Once u go jumbo u never go back.'\n",
            " b\"The plant come early then expected and was in perfect condition. So far the plant is doing okay, just can't understand why the traps are turning black after every feeding. I try contacting the company, but no one was there to answer the phone. Either way they delivered the plant to my house without it being damaged or smashed. I would recommend buying from this company again.\"\n",
            " b'I really liked this popcorn, and the price is much better than purchasing at a regular supermarket.  If you have at least a 1,000 watt microwave, it is best to use Power level 7 (70%) to start with, and set a timer for one minute until you arrive at the best power level and time for your particular microwave.  Otherwise, smoke or worse may lead you to believe this is a bad product.'\n",
            " b'They are more potato crockets in the shape of a ball rather than Au Gratin, but nevertheless YUM YUM YUM!'\n",
            " b\"I have read some really funny reviews about this product.  Some complain that there is noting left in the pod after it has filled the cup, so 'therefore' it must have been an instant mix!  Brilliant deduction, Sherlock!  What did you expect...to see choco-grounds in the cup?  Yes, it is no doubt cheaper to go some other route, that's why 4 instead of 5 stars.<br /><br />But the taste is what you want to know about, right?  The Dark Chocolate flavor is fairly robust with little 'grittyness' to it.  Plop a marshmallow in the cup before brewing and you'll have a real treat!  It comes out strong enough on either the 6 oz or 10 oz setting of the brewer.  Not surprisingly, the milk chocolate flavor is not as strong and a little smoother.  Marshmallow trick has a little different effect making the milk chocolate not only creamier and smoother but a little dilute too.  So, maybe a few mini-marshmallows instead of a full-sized one for this flavor.  Oh, and definitely go 6 oz cup.  My oldest granddaughter and I contest for the peppermint chocolate.  She wins, of course, but it's pretty good when I can get one.  No marshmallow needed.  The hint of peppermint is just enough.  6 oz cup on this one is the best way to go, too.<br /><br />I think I got the cups sizes right.  If I didn't, you'll figure it out.  Btw, I'd imagine the reason it's always out of stock is because people keep buying it!  I've dipped into the supply well a few times myself.  Pretty good. Pretty cheap. Pretty hard to get at times.  I'll buy it again!\"\n",
            " b'I ordered these candies for the first time and I am hooked, they just have a hint of rose the flavor is not overwhelming. I really enjoy them. Highly recommended! Unique candy!'\n",
            " b'This was my first purchase of this water.  It tastes great and the bottles are thicker than most.  Also, everyone likes that name...haha'\n",
            " b'I thought it had a bitter orange flavor, however my husband and friend liked it.'\n",
            " b'Not what I expected at all, there is no punch to these chips like I thought there would be. Not spicy or hot but rather just disgusting. The flavor is off and the after taste is god awful. I ate one corn chip and decided I did not care for them so I ate something else to get the flavor of poop out of my mouth, because that is what these chips taste like, and I can still taste these poo chips.  I will not be buying these chips again at all.  There blue corn chips are really great, but the so called red powder they put on these is just so off.'\n",
            " b'I really love Kettle brand chips, but these are rather disappointing. There is very little sour cream or onion flavor.'\n",
            " b'Got these luscious wine chocolates to use as part of my stocking stuffers.  They were yummy and a big hit with everyone.  Would definitely buy again.'\n",
            " b'La Tourangelle makes some really good oils. I like this company alot...try the sesame oil too.'\n",
            " b'Despite what some think there is a ton of fillers in here (see the ingredient list on the Omaha site), but.... that is not a bad thing in this case. They are not unhealthy fillers and these are very delicious. Our kids just love them. We serve one ball as a serving as that is the perfect healthy carb portion for a meal. 1 piece has the following nutrition just in case you are wondering:<br /><br />Calories: 120<br /><br />Fat: 4.5<br /><br />Trans Fat: 0<br /><br />Sodium: 270<br /><br />Carbohydrate: 17<br /><br />Protein: 3<br /><br />For our dinners we try to keep our carb side to under 5 fat & 25 carb. This fits perfectly & the taste is superb. Baked in the oven, they come out crispy on the outside and moist and tender on the inside. All with no grease. We now keep these on hand instead of french fries. I know they cost more, but they taste better and they are so much healthier. We wait for one of the sales and buy several boxes at a time.'\n",
            " b\"I don't know why, because it doesn't look very appetizing, but my two dachshunds love this stuff and scarf it down with great abandon.\"]\n",
            "label: tf.Tensor([4 4 0 0 4 4 4 4 4 4 1 4 0 4 2 4 4 4 4 3 3 3 3 4 4 1 0 1 4 4 4 3], shape=(32,), dtype=int64)\n",
            "[b\"I've been searching for a no-corn natural dog food to keep skin rashes away...tried Halo which was great but so expensive.  This is a little more affordable and the ingredient list looks very similar to Halo, but....oh boy.  I'm just glad it's warm enough to have the windows open!  My dog loves the taste and the quality seems great, so we'll try 2 more days to see if things settle down.\"\n",
            " b'The Oriental Flavor Ramen Noodles taste okay but I almost always add ingredients to make the dish more wholesome. I prepare it by adding sesame seed oil, vegetables and water then adding the seasoning and noodles after the water boils. Rough vegetables like chopped onions taste better if they are boiled with the seasoning for 15 minutes prior to adding the noodles.'\n",
            " b'Sorry, but I just don\\'t \"get it\".  You pay almost a buck for 8.3oz (just over a cup) of carbonated water and fruit juice concentrate.  FYI, the first one listed on the can is Apple. . . then Grape. . . then Tangerine. . . then Orange.  The taste is fine, but personally, I would much rather have a glass of fresh-squeezed orange juice. .  .for a lot less $$. The can is small and cylindrical, like an energy drink, but there\\'s nothing in this to give you a \"boost\".  FYI, there are 140 calories in one can.  If you have the $$ to spend, then yes, it\\'s a tasty beverage.  But it\\'s simply not a good value in my book.'\n",
            " b'love the wolfgang puck restaurants,cookware,brand endorsed products, all his brand products / cuisine are amazing, i am a loyal fan, yet this creme caramel coffee is tasteless, no real coffee flavor, no hint of caramel or creme, it brews like a bit of steamed milk, that somewhat pasty tasteless feel on your palate. soooo dissapointed as i am such a loyal fan of all his brand, products. sadly,a waste of funds, did not return because i think food items are none refundable.'\n",
            " b'Nice round flavor. Not harsh or botter. I enjoy it with French Vanilla creamer.  Lately it has been harder to find.  I do hope they have not discontinued it!'\n",
            " b\"Didn't have time to make these this year so I thought I would buy them. I never buy cookies, but these I would buy again. My son loved them. The only thing I had to do was dip them in white chocolate.<br />Thanks\"\n",
            " b'The soup itself was excellent -- a nice, well-tasting mix of meat, veggies and wild and white rices, but surely a few more chunks of chicken could have been added. I bought it at local grocer -- two cans for $4.'\n",
            " b\"This product is perfect for my Cavalier King Charles Spaniel puppy. His stools are very regular and healthy. My Vet was very pleased to know I picked this product instead of a regular store brand. It's all natural and my puppy loves it. :)\"\n",
            " b'If you like Orange Crush you may become a fan, but it\\'s too much of a hybrid for me. The main two ingredients are reconstituted apple and grape juices. It contains something called Acerola juice, which is high in Vitamin C (and indeed the can contains 100% of your C and 20% of your A).<br /><br />The sugar content is high---34 grams---which brings the carb percentage up to 12% for the day and the calorie count to 140. I think it tastes too acidic for anyone who is watching carbs and calories to be willing to \"spend\" them on Switch, which almost tastes like carbonated TANG.  I\\'ve tried the Ooba drinks, and they are much lighter and more refreshing. Guess I\\'m just not ready to make the Switch!'\n",
            " b'My new friend arrived with quite a bit of damange and only 2 heads, one crushed, I was so upset, but I put the moss back into the pot snuggly around the base of the plant gave it bottled water and plenty of sun and now, I have 12 heads and a very strong plant! He bounced back so well! Eats flys and is now bright red and green!'\n",
            " b\"I found this mix at the Ft Myer Commissary.  I looked for this product last time I visited the commissary and could not find it.  So here I am online looking and found it here.  I could eat this all day.  I've tried several different snack mixes, but most have too many pretzels.  This has a very nice balance of flavors and textures -- and not a lot of pretzels.  I'm stocking up!!\"\n",
            " b'i followed the easy instructions and these turned out delicious. i ate them all. there were only 6 of them. i mixed 1/2 cup of milk into the dry mix and slowly mixed it together. i poured the mix into my sprayed cast iron 6 cup muffin pan. i cooked them in my small convection oven and they cooked up nicely. they were moist on the inside. the mixes were very fresh smelling and had a freshness date well into 2013. the pouch is a nice tough plastic one and will keep the mix fresh. it is very easy to open also.'\n",
            " b\"Bull Dog's Chuno has become a flavorful addition to my kitchen.  I've used it in everything: marinades, rice, stir fries, vegetables, etc.  I've also used it by itself or as a base to dipping sauces.  It also adds a nice component to homemade bbq sauce.  If I had to compare it to something it would be steak sauce.  Everytime I want to change a dish up a bit, I use chuno.  I've bought mine from somewhere else and didn't know it came in larger sizes.  The offering here is almost double the size, but it's also almost triple the price.  However, if the place I buy it from were to stop, I'd buy it here without fail.  I just wish they had the 50% less salt version.\"\n",
            " b\"Not too sweet, not overly carbonated - can be best described as a good orange punch mixed with Perrier.  And while it is all natural, it is also reconstituted.<br /><br />And that's the rub, while tasty (tangerine is the most prevalent flavor with hints of white grape and a slight grapefuit finish), this is basically just expensive, carbonated juice.  Can size is the same as a Red Bull, 8.3 oz versus the industry standard 12 oz serving.<br /><br />Is more better? Not necessarily, but then again sometimes less is just less.  At approximately $2 per can, which category The Switch Orange Tangerine is, is for you to decide.\"\n",
            " b'I have been looking at this product for a couple months and finally gave in.  First of all, the name got my interest!  The taste is delicious BUT I\\'m having problems with the directions!  Haven\\'t figured out if it\\'s actually a hot beverage or do you put it in a hot beverage?!?!?!?!?  It has a scoop (small) and says to put that in a cup (instructions for 8 oz.) and then put a couple \"shots\" of hot water!  Shots of water????  And you can add frothing milk.  Hum!  Confused but I guess I will work with it.  Hope it doesn\\'t take the whole container (very large) to figure it out. I would have given it 5 stars had I understood the instructions!'\n",
            " b'I HAVE BOUGHT THIS PRODUCT BEFORE. THESE SNACKS ARE CRISP AND GREAT TASTING. ALSO LOW IN CALORIES. I RECOMMEND THEM HIGHLY. THEY ARE SHIPPED ALMOST INSTANTLY AND ARRIVE WITHIN A FEW DAYS.'\n",
            " b\"I was a little worried about the other reviews that said their wrappers were broken.  I wonder if they were pushing the wrappers they suggested (both suggested the same wrappers.... hmmm) However, the wrappers arrived intact.  In fact we took two packages camping and the left overs made it home without damage.  I detected no difference from the rice wrappers we buy locally at an Asian market.  Buying in bulk saved lots of $$.  There were a couple of wrappers - out of dozens -that had a few tiny air bubble holes in them.  It didn't affect the taste or function.  That is the reason for 4 stars instead of 5.  We weren't wrapping anything that was really drippy so it wasn't a problem.  We will definitely order again.  Shipping was rapid.  A great buying experience.\"\n",
            " b\"My aged cat has a very sensitive stomach and she cannot eat most cat foods available. However, she has absoloutely no problems with this. Not once in all the months i've been feeding her this has she ever vomited in any way. Not to mention she's acting healthier and seems stronger on this brand.<br /><br />And she easily eats this dry without having to add any wet food to make it palatable. She clearly likes the taste.<br /><br />All in all I highly recommend this to anyone with a senior cat.\"\n",
            " b\"I love the 34 degree cracked peppercorn, wheat, and other varieties so I thought I would try the caramel, cinnamon, and graham as an alternative to cookies or regular graham crackers. True - you can have a lot of these crackers for little calories/carbs, but the flavor is bland. In terms of satisfaction, they don't quite cut it for me as a snack unless I put peanut butter or something on them. They would probably be good as part of a fruit and cheese dessert platter, along with some peanut butter, fruit spread, honey, or cream cheese.\"\n",
            " b'Great taste. Great ingredients. Great texture. Absolutely delicious! They are a little smaller and you may still be hungry if it is for a meal. I give one to my 5 year old son for breakfast and he is still a little hungry for more. Either that or they taste so good he wants more.'\n",
            " b'I eat these tuna cups (or the salmon cups) almost daily.<br /><br />If you\\'re looking for a nutritious snack, these cups really can\\'t be beat.  If you\\'re a bodybuilder or athlete trying to increase your daily protein intake, these are awesome.  If you\\'re a parent trying to get your kid to eat healthy, getting them to like fish is a great idea.  If you\\'re trying to eat 5-7 meals a day to lose weight, make one of these cups one of your meals, the protein fills you up and makes you feel good.  It also requires a bit of chewing to complete the eating experience.<br /><br />Why eat a nutritionally empty \"100 calorie pack\" of goldfish crackers or potato chips when you could have something like this that has only 80 calories and infinitely more nutritional benefit??<br /><br />I\\'ll eat these alone, straight from the cup, basically anywhere since you don\\'t need to refridgerate and you don\\'t need a can opener.  I\\'ll dump them onto salad, or mix with rice, quinoa, or beans.<br /><br />Here\\'s the nutrition data off the back (for 1 2.7oz cup) at the time of writing:<br /><br />Calories 80 (10 from fat)<br />Total Fat 1g<br />Cholesterol 35mg<br />Sodium 15mg<br />Total Carb 0g<br />Protein 18g<br />Omega-3 EPA/DHA 200mg<br /><br />You really can\\'t beat this for something so portable that requires no preparation or refridgeration.  The package says \"in water\" but there\\'s a little bit of broth in the cup, and if you squeeze this out or just leave it at the bottom of the cup, you probably cut the sodium down to 10mg.<br /><br />I highly recommend these tuna cups and the salmon cups as well.  But, avoid the tuna salad, or the flavored varieties if you are looking to get the maximum nutritional benefit.  Those salads and flavorings just add salt, sugar, carbs.'\n",
            " b\"I like bold coffees and should have trusted the other reviewer who said it wasn't strong enough. This one has a watery finish to it and not very much flavor.  I'll be going back to Emeril's Jazz'd Up Decaf and trying the Coffee People's French Roast Decaf.  So far I've loved everything by the coffee people except the organic blend.  If you like strong coffee don't buy this but if you like a weaker coffee that you can see through you'd probably enjoy this one.\"\n",
            " b\"This drink is ok. A little pricier with several more calories and carbs than I would like, but it is a good alternative to soda. I am glad there's no artificial sweetener in it. It's sweet enough without it. I like the Crayons drinks better, but cannot find them anymore. I also like the flavor of the R.W. Knudsen Spritzers a little more.\"\n",
            " b'I have purchased this product once before from Amazon.  It was delivered promptly and in tact.  This is the only food our dog will eat and we used to purchase it at PetSmart in New York but in Arizona, it is no where to be found.  This food is holistic and has no unnatural products at all.  We try to give our dog good quality dog food and this was it.  So now we go through Amazon and our dog is quite happy.  Bought a double amount to receive free shipping.  It was a very good deal.'\n",
            " b'we have been using this stuff for our baby for three years and she loves it.'\n",
            " b'I waited quite a while before following my impuslse to buy SMOKED SALMON AND SPINACHE MOUSSE, manufactured by GOURMETFOODSTORE.  Of course, it\\'s expensive, and I ahd to save up for it.  And it\\'s quite caloric, as well.  However, the picture of this gourmet treat finally DID get to me, and...after returning to this picture and this product several time.....couldn\\'t resist it any longer.  For me, it was my \"royal treat\", to celebrate the Royal Wedding of Prince William and Kate Middleton!<br /><br />Well, my package arrived a bit after the wedding, (today, actually) --but that\\'s because I ordered it a bit after the wedding, (May 6, to be exact.)  I kept reminding myself how expensive this really is, and how even the Queen saves money whenever, and wherever, she can....but it was no good.  I had to at least TRY this stuff...at least once...<br /><br />The package, marked \"Perishable\", had stood out in my hallway for a few hours, as I was out this morning.  Upon opening the outer cardboard box, then the inner styrofoam box, (repleate with cold-bags, to keep the pershable food inside fresh),  I came across a small brown-cardboard box which held my Smoked Salmon Mousse.  Inside, was not one big package, as I had expected, but, instead -- to my delight -- sixt small black plastic tubs!  It seems, happily, that no matter how much you order of this Somoked Salmon Mousse, it will always be packed in these elegant little black plastic tubs.  The black contrasts nicely with the Smoked Salmon Mousse peeking through both sides of the large yellow label, that almost -- but not quite -- covers the food within.  The label says \"Terroirs d\\'Antan\" in big letterss, and I take it this means \"land\" of Antan, (and not \"terrors\" therefrom),<br />as \"terre\" means \"land\" in French.  Three ducks on one side and one rabbit on the other side of the central \"Terroir\\'s d\\'Antan\" are \"inhabiting\" the yellow label, and we can see, in the far right distance, a huge building that looks like a French chateau -- and, indeed, right below this, in smaller letters, are the words,<br />\"The selection \\'Terroirs d\\'Antan\\' revives ancient recipes from the vearious terroirs of France.  Enjoy.\"  But further down the label, it is revealed that the product was \\'Made in USA - Distrib by Optimus, Inc., Miami Fl  33138.<br /><br />The larger box in which this individual serving, (actually, containing 3 servings -- 7 ounces), black plastic box came, described the contents as being \"Packed in Aspic\".  And so it is.  When the vaccum-packing, transparent plastic covering is removed, there still is another transparent layer to be removed.  My own experience with \"aspic\" had heretofore been, mainly, with learning of the title of a movie, \"A Dandy In Aspic\", starring the late, (and really great), Laurence Harvey.  I have yet to see the movie -- and have never, really, known what \\'aspic\\' is, exceptthat it is some sort of foodstuff.  Well -- I discovered, upon taking what must be aspic off the top op of the salmon mousse, that it is similar to the temporary, plastic \\'dots\\' that are sometimes used to keep products on cardboard backings, but are (somewhat) easily removed.  A type of transparent jello, actually -- about 1/8 inch thick.<br /><br />Well, finally I had the mousse in front of me, and it was time to eat it!<br /><br />The flavour was milder rhan I had expected -- perhaps because \"Cream Cheese\" is the first ingredient.  The smoked salmon flavour DOES come through, on occasion, and it is a nice, dark, smoked salmon flavour, indeed!  But there is far too little of this wonderfully rich smoked salmon flavour here.  (Maybe my taste buds came upon a \"pocket\" of the salmon that had not thoroughly mixed with the cream cheese.  In any event, this product should have been labled as \"Cream Cheese and Salmon Mousee\", because \"cream cheese\" is the first ingredient listed, and \"smoked salmon\" is the eighth ingredient listed, (out of 17 ingredients), and \"spinach\" is the fourteenth.  (This product was made in the USA, remember -- and if I remember correctly, ingredients here must be listed in descending order.  But -- does this<br />\"in size\" order apply to titles too?  If not, it should...<br /><br />The smoked salmon mousse has, again, a very MILD flavour.  it tastes very UNsimilar to the NY-type \"lox\" I had hoped it would.  Here, the amount of cream-cheese SO overwhelms the amount of smoked salmion, that it ALMOST tastes like exotically spiced, and flavoured, cream cheese!<br /><br />The little black \"tubs\", however, are definitely re-usable.  Of a size similar to restaurant trays for artificial sweetner, they are happily made of \"No. 5\" plastic.  According to an \"Organic Gardening\" article I read a while back, ONLY No. 5, or No. 6 plastic are safe to reuse.  So, these little black tubs can be used to hold sugar and artificial sweetener packets, stray coins, business cards, tea-bags, or any other similar object(s).  They can also be used as \"portion-control\" containers, as they hold not-too-much, and not-too-little of any food -- including, (for reference), about five rounded tablespoons of tuna spre<br />trays for<br /><br />\"Vita\" foods, (available in New York\\'s Waldbaum\\'s supermarkets, and probably other areas as well, sells a someked salmon and cream-cheese spread, at 8 ounces for under $3.  Ir does not have spinach, chives, eggs, tomato, or many of the other ingredients in this Smoked Salmon Mousse, sold by GourmetFoodStore. It comes in a white, round plastic tub.  As it has more smoked slamon in it, it tastes more like smoked salmon to me.  As it\\'s kind of inconvenient for me to go to a land-based store, I certainly hope Amazon will offer this VITA product, and others, (like their herring in wine sauce), soon.  otherwise, I\\'ll save up for, and load up on, this Vita product when next I go to Walbaum\\'s.  The \\'Smoked Salmon and Spinach Mousse Pate - All Natural,\" being reviewed here, DOES have more \"snob\" appeal, and DOES come with those nice little space-saving black tubs.  But, unlike the Vita smoked salmon and cream cheese spread, it has more smoked-salmon taste.  And that, when all is said and done, in the end, the main thing that matters in foods, doesn\\'t it?<br /><br />P.S.  One More Plus:  The \"GourmetFoodStore\" catalogue which is included with every pruchase is an education in gourmet food, all by itself.  Did you know HOW MANY types of smoked salmon there are?  HOW many types of caviar?  Whether you buy anything (else) from \"GourmetFoodStore\", this catalogue is not only mouth-watering...but very educational!  Made on fine \"slick\" paper, and filled with beautiful cloured photos, (and also high gourmet-food prices), it is a \"gourmet\" catalogue in more ways than one!  Thanks, GourmetFoodStore!<br /><br />One More Minus:  Sadly, my food came packed in \"peanuts\".  No -- not the edible type of peanuts....the STYROFOAM type of peanuts!  It\\'s impossible to open ANY package packed in styrofoam peanuts, without getting at least some of these innocuous-looking, but incredibly annoying little pieces of styrofoam, all over your floor! GourmetFoodStore is not the only manufacturer/ seller who does this of course....but one would think, with the wonderful, (and espensive) gourmet products they sell, that this up-market marketer would pack their food with something less annoying to the customer?  Of course, there IS the TINY advantage in having something packed in peanuts...one gets forced excercise picking up these small, but aggravating, strofoam peace-of-mind-destroyers, off the<br />floor.  OK -- a few calories are used in this way, and, if you are female, you can imagine yourself to be Ruth, (from the Bible), doing some gleaning.  However, I prefer to have MY fantasies when I desire to have them, and to excercise when _I_ decide to excercise, and NOT have these things suddenly and unexpexctedly forced upon me when opening up a package -- especially from such a luxury-goods emporium as GourmetFoodStore truly is.  Perhaps a $1 charge for having one\\'s goods \"not to be packed in peanuts\" might be applied?  (PLEASE don\\'t make it more than $1!)  Bubble-wrap and similar plastic space-fillers are SO appreciated by customer!  And less aggravation leads to less buying of calmatives and pain-relievers....possibly allowing for MORE money to be spent at GourmetFoodStore!  Please consider these \"suggestions for happier custumers\", dear GourmetFoodStore.  Thanks!'\n",
            " b'This product is exactly as described.  I use my Keurig Brewer daily and now I am able to use my choice of coffee.  They are simple to use and work great.  The delivery from LiquiBuy, LLC on Amazon was prompt and packaged perfectly.'\n",
            " b\"I love Earth's Best. My son eats almost all of the Earth's Best single and combination foods. This pack in particular has two of his dinner/lunch favorites: Summer Vegetable and Brown Rice and Lentil. Some of the dinners and a lot of the first purees are very runny so we mix with some cereal to thicken.\"\n",
            " b'I used to buy these at the local supermarket, but they are no longer carried there.  Finding them on Amazon I purchased a box and found they were fresh and delicious as I remembered.  For chips they are also very healthy.  I definately will buy them again.'\n",
            " b'Arrived quick and on-time, and what a great value! Definitely pleased with my purchase, and will likely buy again =)'\n",
            " b'The toasted flavor is so much better than regular walnut oil; the price is the best I can find and we store it in the fridge for longer life.'\n",
            " b'Red mill\\'s pumkin seeds are simply the best! Other seeds or \"pepitas\" don\\'t come even close. Red mill\\'s seeds are crunchy and very tasty. They are product of the U.S., not China like most pepitas. Well worth the price!']\n",
            "label: tf.Tensor([2 3 2 1 4 4 3 4 1 4 4 4 4 3 3 4 3 4 3 4 4 2 2 4 4 3 4 4 4 3 4 4], shape=(32,), dtype=int64)\n"
          ]
        }
      ]
    },
    {
      "cell_type": "code",
      "source": [
        "vocab_size = 1000\n",
        "text_vec_layer = tf.keras.layers.TextVectorization(max_tokens=vocab_size)\n",
        "text_vec_layer.adapt(train_set.map(lambda reviews, labels: reviews))"
      ],
      "metadata": {
        "id": "aZUiXeKAynhU"
      },
      "execution_count": null,
      "outputs": []
    },
    {
      "cell_type": "code",
      "source": [
        "embed_size = 128\n",
        "tf.random.set_seed(42)\n",
        "model = tf.keras.Sequential([\n",
        "    text_vec_layer,\n",
        "    tf.keras.layers.Embedding(vocab_size, embed_size,mask_zero=True),\n",
        "    tf.keras.layers.GRU(128,recurrent_initializer='glorot_uniform'),\n",
        "    tf.keras.layers.Dense(5,activation=\"softmax\")\n",
        "])\n",
        "opt = tf.keras.optimizers.Adam(learning_rate = 0.0001)\n",
        "model.compile(loss=\"sparse_categorical_crossentropy\", optimizer=opt,\n",
        "    metrics=[\"accuracy\"])\n",
        "history = model.fit(train_set, validation_data=valid_set, epochs=2)\n"
      ],
      "metadata": {
        "id": "Obpm4dkXzcSj",
        "colab": {
          "base_uri": "https://localhost:8080/"
        },
        "outputId": "300446bc-31fe-44c5-9096-1403a95daad5"
      },
      "execution_count": null,
      "outputs": [
        {
          "output_type": "stream",
          "name": "stdout",
          "text": [
            "Epoch 1/2\n",
            "5000/5000 [==============================] - 125s 24ms/step - loss: 0.9401 - accuracy: 0.6584 - val_loss: 0.8712 - val_accuracy: 0.6702\n",
            "Epoch 2/2\n",
            "5000/5000 [==============================] - 98s 20ms/step - loss: 0.8501 - accuracy: 0.6808 - val_loss: 0.7929 - val_accuracy: 0.7013\n"
          ]
        }
      ]
    },
    {
      "cell_type": "code",
      "source": [
        "for f,g in test_set.take(1):\n",
        "  t,k = f,g\n"
      ],
      "metadata": {
        "id": "Lz73v0sZrflY"
      },
      "execution_count": null,
      "outputs": []
    },
    {
      "cell_type": "code",
      "source": [
        "pred = model.predict(t)"
      ],
      "metadata": {
        "colab": {
          "base_uri": "https://localhost:8080/"
        },
        "id": "JC0QWXB4ryfc",
        "outputId": "80c37b9c-787e-4185-ac39-0c2161c54519"
      },
      "execution_count": null,
      "outputs": [
        {
          "output_type": "stream",
          "name": "stdout",
          "text": [
            "1/1 [==============================] - 2s 2s/step\n"
          ]
        }
      ]
    },
    {
      "cell_type": "code",
      "source": [
        "pred"
      ],
      "metadata": {
        "colab": {
          "base_uri": "https://localhost:8080/"
        },
        "id": "gISiDE7ur4KI",
        "outputId": "5091e929-6d73-445d-bfa2-e746d9954340"
      },
      "execution_count": null,
      "outputs": [
        {
          "output_type": "execute_result",
          "data": {
            "text/plain": [
              "array([[1.08215220e-01, 2.02013761e-01, 3.88248414e-01, 2.16320023e-01,\n",
              "        8.52026045e-02],\n",
              "       [1.08840719e-01, 1.37087852e-01, 2.68199086e-01, 2.60273129e-01,\n",
              "        2.25599229e-01],\n",
              "       [4.07764548e-03, 9.32454411e-03, 4.90314662e-02, 3.71978223e-01,\n",
              "        5.65588117e-01],\n",
              "       [5.54229431e-02, 1.22881114e-01, 3.68146569e-01, 3.19195896e-01,\n",
              "        1.34353489e-01],\n",
              "       [4.29105945e-03, 2.02793698e-03, 5.84528921e-03, 6.83526024e-02,\n",
              "        9.19483125e-01],\n",
              "       [2.34362744e-02, 2.84988973e-02, 8.52771401e-02, 2.73566544e-01,\n",
              "        5.89221179e-01],\n",
              "       [4.21655597e-03, 1.03802215e-02, 6.24384172e-02, 4.01597917e-01,\n",
              "        5.21366835e-01],\n",
              "       [1.05133587e-02, 8.94129928e-03, 2.43934449e-02, 1.71405286e-01,\n",
              "        7.84746587e-01],\n",
              "       [7.85017014e-02, 2.55010854e-02, 3.28847654e-02, 1.01818390e-01,\n",
              "        7.61294067e-01],\n",
              "       [8.41865465e-02, 3.23756225e-02, 5.00746593e-02, 1.27526402e-01,\n",
              "        7.05836833e-01],\n",
              "       [6.78323135e-02, 2.31857598e-02, 3.24384756e-02, 1.09575726e-01,\n",
              "        7.66967714e-01],\n",
              "       [3.12664285e-02, 4.03846204e-02, 1.11094147e-01, 3.01133037e-01,\n",
              "        5.16121745e-01],\n",
              "       [1.51120464e-03, 8.72724340e-04, 3.86320683e-03, 6.82519525e-02,\n",
              "        9.25500929e-01],\n",
              "       [5.74563742e-02, 4.54958379e-02, 8.47222582e-02, 1.94107085e-01,\n",
              "        6.18218422e-01],\n",
              "       [4.78284024e-02, 8.09624866e-02, 2.26001710e-01, 3.65291327e-01,\n",
              "        2.79916108e-01],\n",
              "       [1.48821634e-03, 6.86143932e-04, 2.39602407e-03, 4.93628941e-02,\n",
              "        9.46066737e-01],\n",
              "       [7.85977691e-02, 1.61283985e-02, 1.47164119e-02, 5.24056330e-02,\n",
              "        8.38151813e-01],\n",
              "       [2.69983094e-02, 9.04428586e-02, 3.86165202e-01, 3.73839796e-01,\n",
              "        1.22553796e-01],\n",
              "       [1.31304571e-02, 3.56761343e-03, 6.35690801e-03, 5.13756312e-02,\n",
              "        9.25569355e-01],\n",
              "       [1.34259288e-03, 2.27203025e-04, 5.76073537e-04, 1.36544248e-02,\n",
              "        9.84199762e-01],\n",
              "       [3.54947031e-01, 2.10183099e-01, 1.77616403e-01, 1.12360284e-01,\n",
              "        1.44893244e-01],\n",
              "       [3.28839898e-01, 1.60089642e-01, 1.59563869e-01, 1.21510014e-01,\n",
              "        2.29996577e-01],\n",
              "       [2.30031810e-03, 1.37964741e-03, 5.31009631e-03, 7.28544444e-02,\n",
              "        9.18155432e-01],\n",
              "       [1.76633857e-02, 5.21416077e-03, 1.01326415e-02, 6.65320978e-02,\n",
              "        9.00457680e-01],\n",
              "       [8.38731453e-02, 2.00431440e-02, 2.47038808e-02, 8.04646239e-02,\n",
              "        7.90915191e-01],\n",
              "       [1.60504375e-02, 3.08735520e-02, 1.06341071e-01, 3.61485451e-01,\n",
              "        4.85249430e-01],\n",
              "       [5.50500583e-03, 1.88777654e-03, 5.47288870e-03, 5.80908880e-02,\n",
              "        9.29043412e-01],\n",
              "       [3.42365444e-01, 2.08922312e-01, 2.18959853e-01, 1.13143772e-01,\n",
              "        1.16608605e-01],\n",
              "       [1.88350130e-03, 1.70477498e-02, 1.90570369e-01, 6.59805954e-01,\n",
              "        1.30692467e-01],\n",
              "       [2.39410978e-02, 1.11173736e-02, 1.93935651e-02, 9.82706547e-02,\n",
              "        8.47277343e-01],\n",
              "       [3.11830610e-01, 1.53719634e-01, 1.47311747e-01, 1.27312049e-01,\n",
              "        2.59825945e-01],\n",
              "       [1.46511022e-03, 4.13522404e-03, 3.27807367e-02, 3.69047374e-01,\n",
              "        5.92571497e-01]], dtype=float32)"
            ]
          },
          "metadata": {},
          "execution_count": 28
        }
      ]
    },
    {
      "cell_type": "code",
      "source": [
        "k"
      ],
      "metadata": {
        "colab": {
          "base_uri": "https://localhost:8080/"
        },
        "id": "KGAdJK3wr8tq",
        "outputId": "174ff841-7fa8-40e1-987f-2a0c7764ec4a"
      },
      "execution_count": null,
      "outputs": [
        {
          "output_type": "execute_result",
          "data": {
            "text/plain": [
              "<tf.Tensor: shape=(32,), dtype=int64, numpy=\n",
              "array([1, 3, 4, 3, 4, 3, 3, 4, 0, 4, 3, 4, 4, 4, 3, 4, 4, 3, 4, 4, 0, 1,\n",
              "       4, 4, 4, 3, 4, 0, 3, 4, 1, 2])>"
            ]
          },
          "metadata": {},
          "execution_count": 29
        }
      ]
    },
    {
      "cell_type": "code",
      "source": [
        "pred_arr = pred.argmax(axis=1)\n",
        "pred_arr"
      ],
      "metadata": {
        "colab": {
          "base_uri": "https://localhost:8080/"
        },
        "id": "ApDVIt1jloZx",
        "outputId": "3bbc2e3c-6655-40f8-a787-e51224902f90"
      },
      "execution_count": null,
      "outputs": [
        {
          "output_type": "execute_result",
          "data": {
            "text/plain": [
              "array([2, 2, 4, 2, 4, 4, 4, 4, 4, 4, 4, 4, 4, 4, 3, 4, 4, 2, 4, 4, 0, 0,\n",
              "       4, 4, 4, 4, 4, 0, 3, 4, 0, 4])"
            ]
          },
          "metadata": {},
          "execution_count": 33
        }
      ]
    },
    {
      "cell_type": "code",
      "source": [
        "y = [\"kill\"]\n",
        "y = np.asarray(y)\n",
        "ypred = model.predict(y)\n",
        "pred_arr = ypred.argmax(axis=1)\n",
        "pred_arr"
      ],
      "metadata": {
        "colab": {
          "base_uri": "https://localhost:8080/"
        },
        "id": "7Mz4BDptmH2r",
        "outputId": "fc5b3a0b-5d76-4003-a12d-3cad08091cbb"
      },
      "execution_count": null,
      "outputs": [
        {
          "output_type": "stream",
          "name": "stdout",
          "text": [
            "1/1 [==============================] - 0s 19ms/step\n"
          ]
        },
        {
          "output_type": "execute_result",
          "data": {
            "text/plain": [
              "array([0])"
            ]
          },
          "metadata": {},
          "execution_count": 40
        }
      ]
    },
    {
      "cell_type": "code",
      "source": [
        "'''for item in f:\n",
        "  print(f.shape, f.dtype)'''\n",
        "\n",
        "\n",
        "x = [\"terrible driver.\",]\n",
        "x_pred = np.array(x)\n",
        "'''print(x_pred.shape)'''\n",
        "h = model.predict(x_pred)\n",
        "print(h)"
      ],
      "metadata": {
        "colab": {
          "base_uri": "https://localhost:8080/"
        },
        "id": "swVZcMYIsU3T",
        "outputId": "2e99ef0f-0ed5-44a4-cf00-723451256be1"
      },
      "execution_count": null,
      "outputs": [
        {
          "output_type": "stream",
          "name": "stdout",
          "text": [
            "1/1 [==============================] - 0s 321ms/step\n",
            "[[-1.2078137]]\n"
          ]
        }
      ]
    },
    {
      "cell_type": "code",
      "source": [
        "#import 3rd party libraries\n",
        "import requests\n",
        "response = requests.get(\"https//www.xyz.com\")"
      ],
      "metadata": {
        "id": "iMqNjbjWMjG9"
      },
      "execution_count": null,
      "outputs": []
    },
    {
      "cell_type": "code",
      "source": [
        "import matplotlib as p\n",
        "import matplotlib.pyplot as plt\n",
        "import numpy as np\n",
        "fig,ax=plt.subplots()\n",
        "ax.scatter([1,2,3,4],[3,2,4,1])\n",
        "\n"
      ],
      "metadata": {
        "id": "iuh9nTb7UBr1"
      },
      "execution_count": null,
      "outputs": []
    },
    {
      "cell_type": "code",
      "source": [],
      "metadata": {
        "id": "sTlkE_Wcg_lk"
      },
      "execution_count": null,
      "outputs": []
    }
  ]
}